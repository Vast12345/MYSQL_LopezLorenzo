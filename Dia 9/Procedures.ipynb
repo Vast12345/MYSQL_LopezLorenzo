{
 "cells": [
  {
   "cell_type": "markdown",
   "metadata": {},
   "source": [
    "```sql\n",
    "create procedure InsertData(in idProduct int, in nomProduct varchar(255), out msg varchar(100))\n",
    "begin\n",
    "\tif nomProduct = any (select Productname from Products)\n",
    "    then\n",
    "\t\tset msg = \"That Product Already Exists\";\n",
    "\telse\n",
    "\t\tinsert into Products values(idProduct, nomProduct);\n",
    "        set msg = \"The Product has been added successfully\";\n",
    "\tend if;\n",
    "\tselect msg;\n",
    "end //\n",
    "delimiter ;\n",
    "\n",
    "set @msg = \"\";\n",
    "call InsertData(12, \"Procedure Test\", @msg);\n",
    "\n",
    "select * from Products;\n",
    "```"
   ]
  }
 ],
 "metadata": {
  "language_info": {
   "name": "python"
  }
 },
 "nbformat": 4,
 "nbformat_minor": 2
}
