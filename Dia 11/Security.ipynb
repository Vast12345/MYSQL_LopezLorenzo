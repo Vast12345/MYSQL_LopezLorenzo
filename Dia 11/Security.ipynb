{
 "cells": [
  {
   "cell_type": "markdown",
   "metadata": {},
   "source": [
    "```sql\n",
    "show databases;\n",
    "\n",
    "use mysql;\n",
    "\n",
    "select * from engine_cost;\n",
    "select * from general_log;\n",
    "select * from user;\n",
    "\n",
    "-- Revisar los usuarios creados\n",
    "select user, host from mysql.user;\n",
    "create database EjemploClase;\n",
    "use EjemploClase;\n",
    "\n",
    "-- Crear un usuario\n",
    "create user 'enzo'@'localhost' identified by 'enzo123';\n",
    "\n",
    "-- Revisar los permisos que el usuario tiene\n",
    "show grants for 'enzo'@'localhost';\n",
    "\n",
    "grant select, insert, update, delete on *.* to 'enzo'@'localhost';\n",
    "flush privileges;\n",
    "\n",
    "-- Revocar todos los permisos\n",
    "revoke all privileges on *.* from 'pedro'@'172.16.101.112';\n",
    "\n",
    "-- Revisar procesos\n",
    "show processlist;\n",
    "\n",
    "-- Quitar proceso\n",
    "# kill 238;\n",
    "\n",
    "revoke all privileges, grant option from 'pedro'@'172.16.101.132';\n",
    "# drop user 'root'@'localhost';\n",
    "\n",
    "```"
   ]
  }
 ],
 "metadata": {
  "language_info": {
   "name": "python"
  }
 },
 "nbformat": 4,
 "nbformat_minor": 2
}
