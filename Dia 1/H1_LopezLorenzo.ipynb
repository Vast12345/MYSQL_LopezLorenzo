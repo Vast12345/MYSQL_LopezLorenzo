{
 "cells": [
  {
   "cell_type": "markdown",
   "metadata": {},
   "source": [
    "# Intro to MYSQL\n",
    "\n",
    "ssh p4student@172.16.101.139\n",
    "passwd: 1027210907\n",
    "\n",
    "*MYSQL is a service on the internet*\n",
    "\n",
    "### **Service Classes**\n",
    "\n",
    "* Class A: Empresarial, 0-127 WAN\n",
    "* Class B: Municipal, 128-191 MAN\n",
    "* Class C: Domestico, 192-223 LAN\n",
    "\n",
    "### **Ports**\n",
    "\n",
    "*Ports are the means in which you access a certain part of an IP*\n",
    "\n",
    "**Different Ports**\n",
    "\n",
    "* 80 HTTP\n",
    "* 443 HTTPS\n",
    "* 21 FTP\n",
    "* 22 SSH\n",
    "* 3306 MYSQL"
   ]
  }
 ],
 "metadata": {
  "language_info": {
   "name": "python"
  }
 },
 "nbformat": 4,
 "nbformat_minor": 2
}
