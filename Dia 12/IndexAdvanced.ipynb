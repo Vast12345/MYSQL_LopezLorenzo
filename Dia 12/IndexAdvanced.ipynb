{
 "cells": [
  {
   "cell_type": "markdown",
   "metadata": {},
   "source": [
    "```sql\n",
    "use world;\n",
    "show tables;\n",
    "\n",
    "select * from city;\n",
    "select count(*) from city;\n",
    "select * from city where CountryCode = 'GBR';\n",
    "select count(*) from city where CountryCode = 'GBR';\n",
    "select * from country;\n",
    "select count(*) from country;\n",
    "select * from countrylanguage;\n",
    "select count(*) from countrylanguage;\n",
    "\n",
    "select * from city where Name='Peking';\n",
    "select * from city where countrycode = 'CHN';\n",
    "select * from city where countrycode = 'CHN' and Population > 2243000;\n",
    "\n",
    "-- Creacion de una indexacion\n",
    "\n",
    "create index idx_cityCountry on city(`Name`);\n",
    "show keys from city;\n",
    "show indexes from city;\n",
    "\n",
    "explain analyze select * from city where name = 'Bogota';\n",
    "\n",
    "\n",
    "select database_name, table_name, index_name, ROUND(stat_value * @@innodb_page_size / 1024 / 1024, 2) size_in_mb\n",
    "from mysql.innodb_index_stats where stat_name='size' and index_name = \"idx_cityCountry\";\n",
    "\n",
    "select *\n",
    "from mysql.innodb_index_stats;\n",
    "\n",
    "-- Indexes allow you to search for a specific column through the Tree Sorting System. If you were to search without an index, It would go through every column and every row using the Tree Sorting System.\n",
    "```"
   ]
  }
 ],
 "metadata": {
  "language_info": {
   "name": "python"
  }
 },
 "nbformat": 4,
 "nbformat_minor": 2
}
